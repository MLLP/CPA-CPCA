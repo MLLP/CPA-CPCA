{
  "nbformat": 4,
  "nbformat_minor": 0,
  "metadata": {
    "colab": {
      "name": "CPA-CPCA.ipynb",
      "provenance": [],
      "collapsed_sections": [],
      "mount_file_id": "1Jj18tUrgmMp6vmJ4pq0XC15-fR9Yw0QQ",
      "authorship_tag": "ABX9TyM2l7agJFLs02Ofu1vzuYX7",
      "include_colab_link": true
    },
    "kernelspec": {
      "name": "python3",
      "display_name": "Python 3"
    },
    "language_info": {
      "name": "python"
    }
  },
  "cells": [
    {
      "cell_type": "markdown",
      "metadata": {
        "id": "view-in-github",
        "colab_type": "text"
      },
      "source": [
        "<a href=\"https://colab.research.google.com/github/MLLP/CPA-CPCA/blob/main/CPA_CPCA.ipynb\" target=\"_parent\"><img src=\"https://colab.research.google.com/assets/colab-badge.svg\" alt=\"Open In Colab\"/></a>"
      ]
    },
    {
      "cell_type": "code",
      "metadata": {
        "id": "0Bh7s3B6Te5d"
      },
      "source": [
        ""
      ],
      "execution_count": null,
      "outputs": []
    },
    {
      "cell_type": "markdown",
      "metadata": {
        "id": "BYyG53ivaFlO"
      },
      "source": [
        "**CPA e CPCA**<br>\n",
        "*CPA original*<br>\n",
        "Mais informação sobre markdown [aqui](http://markdownguide.org/)<br>\n",
        "Vamos começar importando as funções"
      ]
    },
    {
      "cell_type": "code",
      "metadata": {
        "id": "fKqnUXsmP-Ha"
      },
      "source": [
        "# %%writefile CPA-CPCA.py\n",
        "# #escreve em /content\n",
        "# def Z(rho, T, x, par):\n",
        "#     return 1 #esse valor foi alterado\n",
        "# Ztest = 1.0101\n",
        "execfile('CPA-CPCA.py')"
      ],
      "execution_count": null,
      "outputs": []
    },
    {
      "cell_type": "code",
      "metadata": {
        "colab": {
          "base_uri": "https://localhost:8080/"
        },
        "id": "Exqzcl7LNCaK",
        "outputId": "d4c6d7a0-c608-41f3-aa82-813b7c0380f0"
      },
      "source": [
        "rho = 1000; #densidade molar, mol/m^3\n",
        "T = 300; #temperatura, K\n",
        "# x = np.array([0.5, 0.5]); #composição da fase em fração molar\n",
        "par = []; # par contém constantes do modelo\n",
        "\n",
        "print(Z(rho,T,1.,par))\n",
        "print(Ztest)"
      ],
      "execution_count": null,
      "outputs": [
        {
          "output_type": "stream",
          "text": [
            "1.51\n",
            "1.0101\n"
          ],
          "name": "stdout"
        }
      ]
    }
  ]
}